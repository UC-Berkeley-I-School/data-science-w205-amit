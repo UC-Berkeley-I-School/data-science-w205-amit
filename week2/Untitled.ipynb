{
 "cells": [
  {
   "cell_type": "markdown",
   "metadata": {},
   "source": [
    "## live session 2 - what is Hadoop?\n"
   ]
  },
  {
   "cell_type": "markdown",
   "metadata": {},
   "source": [
    "Hadoop is a \"framework\" that supports distributed computing\n",
    "\n",
    "It consists of a \n",
    "* storage part called **`hdfs`** for the \"hadoop distributed file system\"\n",
    "* processing part called **Map Reduce** which is a programming paradigm or model\n",
    "* resource management called ** YARN ** for managing clusters and communication between computers (Yet Another Resource Negotiator)"
   ]
  },
  {
   "cell_type": "markdown",
   "metadata": {},
   "source": [
    "### what is hdfs?\n",
    "\n",
    "what to do w/ really big data sets\n",
    "* get a bigger hard drive\n",
    "* get a lot of hard drives and remember where you put everything\n",
    "* get a lot of hard drives and have something else remember where you put everything\n",
    "\n",
    "hdfs is a filesystem that does the remembering for you\n",
    "\n"
   ]
  },
  {
   "cell_type": "markdown",
   "metadata": {},
   "source": [
    "### what is map reduce\n",
    "\n",
    "how do you compute efficiently when your data is phyiscally on many hard drives?\n",
    "\n",
    "1. one idea if transfer speeds were instantaneous\n",
    "  * copy sections of your data to a master computer\n",
    "  * perform some part of the calculation\n",
    "  * save intermediate results\n",
    "  * do it again until you have looped thru all your data\n",
    "  \n",
    "2. one idea if computers are super cheap\n",
    "  * have one computer for each hard drive that has data\n",
    "  * perform calculations on the data near the data\n",
    "  * transfer intermeidate results to master computer\n",
    "  * aggregate intermediate results\n",
    "  \n",
    "map reduce uses #2 \n",
    "\n",
    "map reduce breaks up a problem into 3 steps\n",
    "* map\n",
    "* shuffle\n",
    "* reduce\n",
    "\n"
   ]
  },
  {
   "cell_type": "markdown",
   "metadata": {},
   "source": [
    "### what is YARN?\n",
    "\n",
    "this part is sort of magic, you don't really have to mess with it much (at least i don't)"
   ]
  },
  {
   "cell_type": "code",
   "execution_count": null,
   "metadata": {
    "collapsed": true
   },
   "outputs": [],
   "source": []
  }
 ],
 "metadata": {
  "kernelspec": {
   "display_name": "Python 2",
   "language": "python",
   "name": "python2"
  },
  "language_info": {
   "codemirror_mode": {
    "name": "ipython",
    "version": 2
   },
   "file_extension": ".py",
   "mimetype": "text/x-python",
   "name": "python",
   "nbconvert_exporter": "python",
   "pygments_lexer": "ipython2",
   "version": "2.7.10"
  }
 },
 "nbformat": 4,
 "nbformat_minor": 0
}
