{
 "cells": [
  {
   "cell_type": "markdown",
   "metadata": {},
   "source": [
    "## Intro to Spark\n",
    "\n",
    "\n",
    "### what is Spark?\n",
    "\n",
    "http://spark.apache.org/\n",
    "\n",
    "*Run programs up to 100x faster than Hadoop MapReduce in memory, or 10x faster on disk.*\n",
    "\n",
    "This nicest thing about Spark, is the interface to Python using PySpark\n",
    "\n",
    "There is some language Scale, that Spark is built on.  Luckily you don't have to learn Scala.\n",
    "\n",
    "\n",
    "\n",
    "### how does it work?\n",
    "\n",
    "it uses a data structure called an RDD (Resilient Distributed Dataset) which is basically some fast, clever, magical way of saving data to disk instead of holding it all in memory\n",
    "\n",
    "\n"
   ]
  },
  {
   "cell_type": "markdown",
   "metadata": {},
   "source": [
    "### using the Spark SQL shell instead of Hive\n",
    "\n",
    "1. some pre-reqs\n",
    "* start hive\n",
    "* start the hive metastore\n",
    "\n",
    "1. just use this instead and do the same stuff\n",
    "```\n",
    "/data/spark15/bin/spark-sql\n",
    "```\n",
    "\n",
    "1. run some commands but faster\n",
    "```\n",
    "show tables;\n",
    "select avg(age) from foo;\n",
    "```\n"
   ]
  },
  {
   "cell_type": "markdown",
   "metadata": {},
   "source": [
    "### use the Python interface\n",
    "\n",
    "1. launch it \n",
    "```\n",
    "data/spark15/bin/pyspark\n",
    "```\n",
    "\n",
    "1. examine the \"Spark context variable\"\n",
    "```\n",
    "sc\n",
    "```\n",
    "\n",
    "1. get Hive context\n",
    "```\n",
    "from pyspark.sql import HiveContext\n",
    "```\n",
    "\n",
    "1. create an instance of the HiveContext\n",
    "```\n",
    "sqlContext = HiveContext(sc)\n",
    "```\n",
    "\n",
    "1. see what tables we have \n",
    "```\n",
    "sqlContext.sql(\"show tables\").show()\n",
    "```\n",
    "\n",
    "1. run a simple sql command\n",
    "```\n",
    "rdd = sqlContext.sql(\"select * from user_info\")\n",
    "rdd.show()\n",
    "```"
   ]
  },
  {
   "cell_type": "code",
   "execution_count": null,
   "metadata": {
    "collapsed": true
   },
   "outputs": [],
   "source": []
  }
 ],
 "metadata": {
  "kernelspec": {
   "display_name": "Python 2",
   "language": "python",
   "name": "python2"
  },
  "language_info": {
   "codemirror_mode": {
    "name": "ipython",
    "version": 2
   },
   "file_extension": ".py",
   "mimetype": "text/x-python",
   "name": "python",
   "nbconvert_exporter": "python",
   "pygments_lexer": "ipython2",
   "version": "2.7.10"
  }
 },
 "nbformat": 4,
 "nbformat_minor": 0
}
